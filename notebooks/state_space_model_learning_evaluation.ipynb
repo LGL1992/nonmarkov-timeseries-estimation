{
 "cells": [
  {
   "cell_type": "markdown",
   "metadata": {
    "nbpresent": {
     "id": "7053d6ff-c76d-4acf-b802-931d1f0def9a"
    }
   },
   "source": [
    "# State Space Model of Learning - Performance Evaluation"
   ]
  },
  {
   "cell_type": "markdown",
   "metadata": {
    "nbpresent": {
     "id": "da6cce84-9316-4041-b6f1-f9a3c7c0006b"
    }
   },
   "source": [
    "This notebook demonstrates usage of the framework for the state space model of learning problem. Additionally, it is used to create Fig. 1 in section IV.A."
   ]
  },
  {
   "cell_type": "code",
   "execution_count": 1,
   "metadata": {
    "nbpresent": {
     "id": "2213f599-ba98-4030-9678-e635f6fb0b8a"
    }
   },
   "outputs": [],
   "source": [
    "%load_ext autoreload\n",
    "%autoreload 2\n",
    "\n",
    "import numpy as np\n",
    "import matplotlib.pyplot as plt\n",
    "from scipy.stats import bernoulli as bern\n",
    "import time\n",
    "import seaborn as sns\n",
    "sns.set(rc={'image.cmap': 'jet'},font_scale=1)\n",
    "%matplotlib inline\n",
    "\n",
    "import sys\n",
    "sys.path\n",
    "sys.path.append('../python/')\n",
    "from ssml import ssml\n",
    "from ssml_particle import particle_smooth\n",
    "from ssml_kalman import kalman_smooth\n",
    "\n",
    "# Temporary to avoid the \"if self._edgecolors == str('face')\" FutureWarning\n",
    "import warnings\n",
    "warnings.filterwarnings('ignore')"
   ]
  },
  {
   "cell_type": "markdown",
   "metadata": {},
   "source": [
    "## *Generative Model*\n",
    "First we'll create functions for generating a learning state and the subsequent observations."
   ]
  },
  {
   "cell_type": "code",
   "execution_count": 2,
   "metadata": {
    "code_folding": [
     0
    ],
    "run_control": {
     "marked": true
    }
   },
   "outputs": [],
   "source": [
    "def gen_learning_state(N=50,sparse_variations=False,plot=False,\n",
    "                       gamma=0.1,phi=0.99,sigv=0.03,sigchi=0.15,p=0.05):\n",
    "\n",
    "    X = np.zeros((N,))\n",
    "\n",
    "    if sparse_variations:\n",
    "        for n in range(1,len(X)):\n",
    "            if np.random.uniform() < p:\n",
    "                X[n] = X[n-1] + sigchi*(np.random.chisquare(2))\n",
    "            else:\n",
    "                X[n] = X[n-1]\n",
    "\n",
    "    else:\n",
    "        V = np.sqrt(sigv)*np.random.randn(N) # Gaussian vector for learning state random walk\n",
    "        X[0] = gamma + V[0]\n",
    "        for n in range(1,len(X)):\n",
    "            X[n] = gamma + phi*X[n-1] + V[n]\n",
    "\n",
    "    if plot:\n",
    "        plt.figure(figsize=(15,4))\n",
    "        plt.plot(range(1,N+1),X,'o')\n",
    "        plt.xlim(0.75,N+0.5)\n",
    "        plt.xticks(range(1,N+1))\n",
    "        plt.xlabel('Trial Number')\n",
    "        plt.ylabel('Learning State')\n",
    "        plt.tight_layout();\n",
    "    \n",
    "    return X"
   ]
  },
  {
   "cell_type": "code",
   "execution_count": 3,
   "metadata": {
    "code_folding": [
     0
    ]
   },
   "outputs": [],
   "source": [
    "def gen_reaction_time(X,delta=0.369,h=-0.38,sigg=0.75,plot=False):\n",
    "    N = len(X)\n",
    "    G = np.sqrt(sigg)*np.random.randn(N)\n",
    "    Q = delta + h*X + G\n",
    "\n",
    "    if plot:\n",
    "        plt.figure(figsize=(15,4))\n",
    "        plt.plot(range(1,N+1),Q,'o')\n",
    "        plt.xlim(0.75,N+0.5)\n",
    "        plt.xticks(range(1,N+1))\n",
    "        plt.xlabel('Trial Number')\n",
    "        plt.ylabel('Log Reaction Time')\n",
    "        plt.tight_layout();\n",
    "    \n",
    "    return Q"
   ]
  },
  {
   "cell_type": "code",
   "execution_count": 4,
   "metadata": {
    "code_folding": [
     0
    ],
    "run_control": {
     "marked": false
    }
   },
   "outputs": [],
   "source": [
    "def gen_trial_outcome(X,mu=-1.4170,eta=1.75,plot=False):\n",
    "    N = len(X)\n",
    "    p = np.exp(mu + eta*X)/(1 + np.exp(mu+eta*X))\n",
    "    M = np.zeros((N,))\n",
    "    col = []\n",
    "    for n in range(len(M)):\n",
    "        M[n] = bern.rvs(p[n],size=1)\n",
    "        if M[n] == 1: col.append('b')\n",
    "        else: col.append('r')\n",
    "\n",
    "    if plot:\n",
    "        plt.figure(figsize=(15,4))\n",
    "        plt.plot([0]*(N+2),'k--',[1]*(N+2),'k--')\n",
    "        plt.scatter(range(1,N+1),M,c=col,s=50)\n",
    "        plt.xlim(0.75,N+0.5)\n",
    "        plt.xticks(range(1,N+1))\n",
    "        plt.ylim([-.1,1.1])\n",
    "        plt.xlabel('Trial Number')\n",
    "        plt.ylabel('Correct/Incorrect (1/0) Outcome')\n",
    "        plt.tight_layout();\n",
    "    return M"
   ]
  },
  {
   "cell_type": "code",
   "execution_count": 5,
   "metadata": {
    "code_folding": [
     0
    ]
   },
   "outputs": [],
   "source": [
    "def gen_spiking(X,T=5,Del=0.001,psi=-3.5,g=2.2,c=[-20,-5,1,3],plot=False):\n",
    "    J = int(T/Del)\n",
    "    N = len(X)\n",
    "    R = np.zeros((N,J))\n",
    "    for n in range(N):\n",
    "        for j in range(J):\n",
    "            c_sum = 0\n",
    "            for s in range(len(c)):\n",
    "                if(j-(s+1)>=0):\n",
    "                    c_sum += c[s]*R[n,j-(s+1)]\n",
    "            lam_nj = np.exp(psi + g*X[n] + c_sum)\n",
    "            R[n,j] = bern.rvs(lam_nj*Del*np.exp(-lam_nj*Del),size=1)\n",
    "\n",
    "    if plot:\n",
    "        R_vec = R.reshape(N*J,1)\n",
    "        plt.figure(figsize=(15,4))\n",
    "        plt.plot(np.arange(0,N*J/1000,1/1000),R_vec,linewidth=0.3)\n",
    "        plt.xlim([0,N*J/1000])\n",
    "        plt.xticks(range(0,130,5))\n",
    "        plt.xlabel('Time (s)')\n",
    "        plt.ylabel('Spiking Activity')\n",
    "        plt.tight_layout();\n",
    "    \n",
    "    return R"
   ]
  },
  {
   "cell_type": "markdown",
   "metadata": {},
   "source": [
    "## *Gaussian Learning State*"
   ]
  },
  {
   "cell_type": "markdown",
   "metadata": {},
   "source": [
    "First we'll run multiple trials with the standard state space model of learning model with the Gaussian random walk. Start by defining the parameters:"
   ]
  },
  {
   "cell_type": "code",
   "execution_count": 18,
   "metadata": {
    "code_folding": [],
    "collapsed": true,
    "scrolled": false
   },
   "outputs": [],
   "source": [
    "# Learning State\n",
    "N=25; gamma=0.1; phi=0.99; sigv=0.03\n",
    "# Reaction time\n",
    "delta=0.369; h=-0.38; sigg=0.75\n",
    "# Trial outcomes\n",
    "mu=-1.4170; eta=1.75\n",
    "# Spiking \n",
    "T=5; Del=0.001; psi=-3.5; g=2.2; c=[-20,-5,1,3]; J = int(T/Del)\n",
    "\n",
    "# ADMM params\n",
    "rho = 30\n",
    "max_iters = 25\n",
    "verbosity = 0\n",
    "\n",
    "# Kalman param\n",
    "eps=0.0000001\n",
    "\n",
    "# Particle param\n",
    "num_p=100\n",
    "\n",
    "# The parameters that get passed into each solution method\n",
    "params = [gamma,phi,sigv,delta,h,sigg,mu,eta,psi,g,c,Del,J]\n",
    "\n",
    "# Number of trials to conduct\n",
    "num_trials = 50"
   ]
  },
  {
   "cell_type": "code",
   "execution_count": 19,
   "metadata": {
    "scrolled": true
   },
   "outputs": [
    {
     "name": "stdout",
     "output_type": "stream",
     "text": [
      "\n",
      "---------- Trial 1 ----------\n",
      "ADMM - RMSE: 0.047, Time: 1.9\n",
      "Kalman - RMSE: 0.050, Time: 2.9\n",
      "Particle - RMSE: 0.039, Time: 56.8\n",
      "\n",
      "---------- Trial 2 ----------\n",
      "ADMM - RMSE: 0.034, Time: 1.8\n",
      "Kalman - RMSE: 0.040, Time: 2.7\n",
      "Particle - RMSE: 0.044, Time: 57.5\n",
      "\n",
      "---------- Trial 3 ----------\n",
      "ADMM - RMSE: 0.060, Time: 1.9\n",
      "Kalman - RMSE: 0.055, Time: 2.8\n",
      "Particle - RMSE: 0.082, Time: 57.3\n",
      "\n",
      "---------- Trial 4 ----------\n",
      "ADMM - RMSE: 0.026, Time: 1.8\n",
      "Kalman - RMSE: 0.023, Time: 2.9\n",
      "Particle - RMSE: 0.050, Time: 57.2\n",
      "\n",
      "---------- Trial 5 ----------\n",
      "ADMM - RMSE: 0.033, Time: 1.9\n",
      "Kalman - RMSE: 0.032, Time: 2.8\n",
      "Particle - RMSE: 0.064, Time: 56.3\n",
      "\n",
      "---------- Trial 6 ----------\n",
      "ADMM - RMSE: 0.026, Time: 1.9\n",
      "Kalman - RMSE: 0.027, Time: 3.0\n",
      "Particle - RMSE: 0.032, Time: 57.2\n",
      "\n",
      "---------- Trial 7 ----------\n",
      "ADMM - RMSE: 0.023, Time: 1.9\n",
      "Kalman - RMSE: 0.023, Time: 2.8\n",
      "Particle - RMSE: 0.037, Time: 56.8\n",
      "\n",
      "---------- Trial 8 ----------\n",
      "ADMM - RMSE: 0.032, Time: 1.8\n",
      "Kalman - RMSE: 0.032, Time: 2.7\n",
      "Particle - RMSE: 0.049, Time: 57.5\n",
      "\n",
      "---------- Trial 9 ----------\n",
      "ADMM - RMSE: 0.031, Time: 1.9\n",
      "Kalman - RMSE: 0.030, Time: 3.0\n",
      "Particle - RMSE: 0.042, Time: 57.4\n",
      "\n",
      "---------- Trial 10 ----------\n",
      "ADMM - RMSE: 0.021, Time: 1.8\n",
      "Kalman - RMSE: 0.022, Time: 2.9\n",
      "Particle - RMSE: 0.018, Time: 57.0\n",
      "\n",
      "---------- Trial 11 ----------\n",
      "ADMM - RMSE: 0.059, Time: 1.8\n",
      "Kalman - RMSE: 0.069, Time: 2.8\n",
      "Particle - RMSE: 0.045, Time: 57.1\n",
      "\n",
      "---------- Trial 12 ----------\n",
      "ADMM - RMSE: 0.028, Time: 1.9\n",
      "Kalman - RMSE: 0.028, Time: 2.7\n",
      "Particle - RMSE: 0.033, Time: 56.8\n",
      "\n",
      "---------- Trial 13 ----------\n",
      "ADMM - RMSE: 0.029, Time: 1.9\n",
      "Kalman - RMSE: 0.028, Time: 2.8\n",
      "Particle - RMSE: 0.044, Time: 57.2\n",
      "\n",
      "---------- Trial 14 ----------\n",
      "ADMM - RMSE: 0.049, Time: 1.9\n",
      "Kalman - RMSE: 0.050, Time: 2.7\n",
      "Particle - RMSE: 0.060, Time: 56.3\n",
      "\n",
      "---------- Trial 15 ----------\n",
      "ADMM - RMSE: 0.023, Time: 1.8\n",
      "Kalman - RMSE: 0.023, Time: 2.8\n",
      "Particle - RMSE: 0.032, Time: 56.8\n",
      "\n",
      "---------- Trial 16 ----------\n",
      "ADMM - RMSE: 0.046, Time: 1.8\n",
      "Kalman - RMSE: 0.049, Time: 2.7\n",
      "Particle - RMSE: 0.038, Time: 57.7\n",
      "\n",
      "---------- Trial 17 ----------\n",
      "ADMM - RMSE: 0.029, Time: 1.8\n",
      "Kalman - RMSE: 0.030, Time: 2.9\n",
      "Particle - RMSE: 0.037, Time: 57.0\n",
      "\n",
      "---------- Trial 18 ----------\n",
      "ADMM - RMSE: 0.028, Time: 1.9\n",
      "Kalman - RMSE: 0.028, Time: 2.9\n",
      "Particle - RMSE: 0.041, Time: 57.4\n",
      "\n",
      "---------- Trial 19 ----------\n",
      "ADMM - RMSE: 0.032, Time: 1.9\n",
      "Kalman - RMSE: 0.032, Time: 2.9\n",
      "Particle - RMSE: 0.051, Time: 57.1\n",
      "\n",
      "---------- Trial 20 ----------\n",
      "ADMM - RMSE: 0.038, Time: 1.9\n",
      "Kalman - RMSE: 0.038, Time: 2.8\n",
      "Particle - RMSE: 0.042, Time: 56.9\n",
      "\n",
      "---------- Trial 21 ----------\n",
      "ADMM - RMSE: 0.060, Time: 1.8\n",
      "Kalman - RMSE: 0.063, Time: 2.8\n",
      "Particle - RMSE: 0.035, Time: 57.0\n",
      "\n",
      "---------- Trial 22 ----------\n",
      "ADMM - RMSE: 0.025, Time: 1.8\n",
      "Kalman - RMSE: 0.026, Time: 2.9\n",
      "Particle - RMSE: 0.019, Time: 56.9\n",
      "\n",
      "---------- Trial 23 ----------\n",
      "ADMM - RMSE: 0.044, Time: 1.8\n",
      "Kalman - RMSE: 0.047, Time: 3.0\n",
      "Particle - RMSE: 0.046, Time: 56.9\n",
      "\n",
      "---------- Trial 24 ----------\n",
      "ADMM - RMSE: 0.026, Time: 1.8\n",
      "Kalman - RMSE: 0.028, Time: 2.9\n",
      "Particle - RMSE: 0.024, Time: 56.8\n",
      "\n",
      "---------- Trial 25 ----------\n",
      "ADMM - RMSE: 0.034, Time: 1.9\n",
      "Kalman - RMSE: 0.034, Time: 2.8\n",
      "Particle - RMSE: 0.050, Time: 56.9\n",
      "\n",
      "---------- Trial 26 ----------\n",
      "ADMM - RMSE: 0.029, Time: 1.9\n",
      "Kalman - RMSE: 0.030, Time: 3.0\n",
      "Particle - RMSE: 0.036, Time: 57.1\n",
      "\n",
      "---------- Trial 27 ----------\n",
      "ADMM - RMSE: 0.024, Time: 1.8\n",
      "Kalman - RMSE: 0.025, Time: 3.1\n",
      "Particle - RMSE: 0.034, Time: 56.8\n",
      "\n",
      "---------- Trial 28 ----------\n",
      "ADMM - RMSE: 0.027, Time: 1.9\n",
      "Kalman - RMSE: 0.025, Time: 3.0\n",
      "Particle - RMSE: 0.040, Time: 56.9\n",
      "\n",
      "---------- Trial 29 ----------\n",
      "ADMM - RMSE: 0.034, Time: 1.9\n",
      "Kalman - RMSE: 0.035, Time: 3.1\n",
      "Particle - RMSE: 0.027, Time: 57.3\n",
      "\n",
      "---------- Trial 30 ----------\n",
      "ADMM - RMSE: 0.024, Time: 1.8\n",
      "Kalman - RMSE: 0.023, Time: 2.9\n",
      "Particle - RMSE: 0.030, Time: 57.0\n",
      "\n",
      "---------- Trial 31 ----------\n",
      "ADMM - RMSE: 0.073, Time: 1.8\n",
      "Kalman - RMSE: 0.087, Time: 2.8\n",
      "Particle - RMSE: 0.049, Time: 57.1\n",
      "\n",
      "---------- Trial 32 ----------\n",
      "ADMM - RMSE: 0.041, Time: 1.9\n",
      "Kalman - RMSE: 0.039, Time: 2.9\n",
      "Particle - RMSE: 0.054, Time: 56.7\n",
      "\n",
      "---------- Trial 33 ----------\n",
      "ADMM - RMSE: 0.041, Time: 1.9\n",
      "Kalman - RMSE: 0.036, Time: 2.9\n",
      "Particle - RMSE: 0.045, Time: 57.0\n",
      "\n",
      "---------- Trial 34 ----------\n",
      "ADMM - RMSE: 0.029, Time: 1.9\n",
      "Kalman - RMSE: 0.031, Time: 2.9\n",
      "Particle - RMSE: 0.024, Time: 57.3\n",
      "\n",
      "---------- Trial 35 ----------\n",
      "ADMM - RMSE: 0.018, Time: 1.8\n",
      "Kalman - RMSE: 0.018, Time: 2.9\n",
      "Particle - RMSE: 0.027, Time: 57.1\n",
      "\n",
      "---------- Trial 36 ----------\n",
      "ADMM - RMSE: 0.025, Time: 2.0\n",
      "Kalman - RMSE: 0.024, Time: 2.8\n",
      "Particle - RMSE: 0.031, Time: 57.2\n",
      "\n",
      "---------- Trial 37 ----------\n",
      "ADMM - RMSE: 0.047, Time: 1.9\n",
      "Kalman - RMSE: 0.044, Time: 2.8\n",
      "Particle - RMSE: 0.064, Time: 56.9\n",
      "\n",
      "---------- Trial 38 ----------\n",
      "ADMM - RMSE: 0.040, Time: 1.9\n",
      "Kalman - RMSE: 0.041, Time: 2.8\n",
      "Particle - RMSE: 0.042, Time: 58.0\n",
      "\n",
      "---------- Trial 39 ----------\n",
      "ADMM - RMSE: 0.024, Time: 1.9\n",
      "Kalman - RMSE: 0.023, Time: 2.8\n",
      "Particle - RMSE: 0.026, Time: 56.8\n",
      "\n",
      "---------- Trial 40 ----------\n",
      "ADMM - RMSE: 0.027, Time: 1.8\n",
      "Kalman - RMSE: 0.027, Time: 2.9\n",
      "Particle - RMSE: 0.026, Time: 56.7\n",
      "\n",
      "---------- Trial 41 ----------\n",
      "ADMM - RMSE: 0.034, Time: 1.9\n",
      "Kalman - RMSE: 0.036, Time: 3.0\n",
      "Particle - RMSE: 0.027, Time: 56.8\n",
      "\n",
      "---------- Trial 42 ----------\n",
      "ADMM - RMSE: 0.020, Time: 1.9\n",
      "Kalman - RMSE: 0.018, Time: 2.8\n",
      "Particle - RMSE: 0.021, Time: 56.4\n",
      "\n",
      "---------- Trial 43 ----------\n",
      "ADMM - RMSE: 0.030, Time: 1.8\n",
      "Kalman - RMSE: 0.031, Time: 2.9\n",
      "Particle - RMSE: 0.027, Time: 56.5\n",
      "\n",
      "---------- Trial 44 ----------\n",
      "ADMM - RMSE: 0.047, Time: 1.9\n",
      "Kalman - RMSE: 0.053, Time: 2.7\n",
      "Particle - RMSE: 0.046, Time: 56.7\n",
      "\n",
      "---------- Trial 45 ----------\n",
      "ADMM - RMSE: 0.021, Time: 1.9\n",
      "Kalman - RMSE: 0.022, Time: 2.9\n",
      "Particle - RMSE: 0.025, Time: 56.5\n",
      "\n",
      "---------- Trial 46 ----------\n",
      "ADMM - RMSE: 0.038, Time: 1.8\n",
      "Kalman - RMSE: 0.040, Time: 2.6\n",
      "Particle - RMSE: 0.056, Time: 57.1\n",
      "\n",
      "---------- Trial 47 ----------\n",
      "ADMM - RMSE: 0.021, Time: 1.9\n",
      "Kalman - RMSE: 0.022, Time: 3.1\n",
      "Particle - RMSE: 0.054, Time: 56.5\n",
      "\n",
      "---------- Trial 48 ----------\n",
      "ADMM - RMSE: 0.031, Time: 1.8\n",
      "Kalman - RMSE: 0.030, Time: 2.9\n",
      "Particle - RMSE: 0.035, Time: 56.7\n",
      "\n",
      "---------- Trial 49 ----------\n",
      "ADMM - RMSE: 0.028, Time: 1.9\n",
      "Kalman - RMSE: 0.026, Time: 2.7\n",
      "Particle - RMSE: 0.045, Time: 56.4\n",
      "\n",
      "---------- Trial 50 ----------\n",
      "ADMM - RMSE: 0.018, Time: 1.9\n",
      "Kalman - RMSE: 0.017, Time: 2.9\n",
      "Particle - RMSE: 0.039, Time: 57.0\n"
     ]
    }
   ],
   "source": [
    "results = {'admm':{'rmse':[],'time':[]},\n",
    "           'kalman':{'rmse':[],'time':[]},\n",
    "           'particle':{'rmse':[],'time':[]}}\n",
    "\n",
    "for trial in range(num_trials):\n",
    "    \n",
    "    # generate learning states\n",
    "    X = gen_learning_state(N)\n",
    "    \n",
    "    # create observations\n",
    "    Q = gen_reaction_time(X)\n",
    "    M = gen_trial_outcome(X)\n",
    "    R = gen_spiking(X)\n",
    "    \n",
    "    # make predictions and store results\n",
    "    start = time.time()\n",
    "    x_admm = ssml(observations=(M,Q,R), rho=rho, params=params, max_iters=max_iters, verbosity=verbosity)\n",
    "    results['admm']['time'].append(time.time()-start)\n",
    "    results['admm']['rmse'].append(np.linalg.norm(X-x_admm)/N)\n",
    "    \n",
    "    start = time.time()\n",
    "    x_kalman = kalman_smooth(obs=(M,Q,R),eps=eps,params=params)\n",
    "    results['kalman']['time'].append(time.time()-start)\n",
    "    results['kalman']['rmse'].append(np.linalg.norm(X-x_kalman)/N)\n",
    "    \n",
    "    start = time.time()\n",
    "    x_particle = particle_smooth(obs=(M,Q,R),params=params,num_p=num_p)\n",
    "    results['particle']['time'].append(time.time()-start)\n",
    "    results['particle']['rmse'].append(np.linalg.norm(X-x_particle)/N)\n",
    "\n",
    "    print('\\n---------- Trial %i ----------'%(trial+1))\n",
    "    print('ADMM - RMSE: %0.3f, Time: %0.1f'%(results['admm']['rmse'][trial],results['admm']['time'][trial]))\n",
    "    print('Kalman - RMSE: %0.3f, Time: %0.1f'%(results['kalman']['rmse'][trial],results['kalman']['time'][trial]))\n",
    "    print('Particle - RMSE: %0.3f, Time: %0.1f'%(results['particle']['rmse'][trial],results['particle']['time'][trial]))"
   ]
  },
  {
   "cell_type": "code",
   "execution_count": 20,
   "metadata": {},
   "outputs": [
    {
     "name": "stdout",
     "output_type": "stream",
     "text": [
      "ADMM - RMSE: 0.033, Time: 1.9\n",
      "Kalman - RMSE: 0.034, Time: 2.9\n",
      "Particle - RMSE: 0.040, Time: 57.0\n"
     ]
    }
   ],
   "source": [
    "print('ADMM - RMSE: %0.3f, Time: %0.1f'%(np.mean(results['admm']['rmse']),np.mean(results['admm']['time'])))\n",
    "print('Kalman - RMSE: %0.3f, Time: %0.1f'%(np.mean(results['kalman']['rmse']),np.mean(results['kalman']['time'])))\n",
    "print('Particle - RMSE: %0.3f, Time: %0.1f'%(np.mean(results['particle']['rmse']),np.mean(results['particle']['time'])))"
   ]
  },
  {
   "cell_type": "markdown",
   "metadata": {},
   "source": [
    "## *Sparse Variation Learning State*"
   ]
  },
  {
   "cell_type": "code",
   "execution_count": 21,
   "metadata": {},
   "outputs": [],
   "source": [
    "# Learning State\n",
    "N=50; gamma=0.1; phi=0.99; sigv=0.03; sigchi = 0.15; p = 0.05\n",
    "# Reaction time\n",
    "delta=0.369; h=-0.38; sigg=0.75\n",
    "# Trial outcomes\n",
    "mu=-1.4170; eta=1.75\n",
    "# Spiking \n",
    "T=5; Del=0.001; psi=-3.5; g=2.2; c=[-20,-5,1,3]; J = int(T/Del)\n",
    "\n",
    "# ADMM params\n",
    "rho = 30\n",
    "max_iters = 20\n",
    "verbosity = 0\n",
    "beta = 25\n",
    "\n",
    "# Kalman param\n",
    "eps=0.0000001\n",
    "\n",
    "# Particle param\n",
    "num_p=100\n",
    "\n",
    "# The parameters that get passed into each solution method\n",
    "params = [gamma,phi,sigv,delta,h,sigg,mu,eta,psi,g,c,Del,J,beta]\n",
    "kalman_params = [0,1,4*(sigchi**2),delta,h,sigg,mu,eta,psi,g,c,Del,J]\n",
    "particle_params = [gamma,phi,sigv,delta,h,sigg,mu,eta,psi,g,c,Del,J,p,sigchi]\n",
    "\n",
    "# Number of trials to conduct\n",
    "num_trials = 20"
   ]
  },
  {
   "cell_type": "code",
   "execution_count": 22,
   "metadata": {
    "scrolled": true
   },
   "outputs": [
    {
     "name": "stdout",
     "output_type": "stream",
     "text": [
      "\n",
      "---------- Trial 1 ----------\n",
      "ADMM - RMSE: 0.010, Time: 2.0\n",
      "Kalman - RMSE: 0.041, Time: 5.8\n",
      "Particle - RMSE: 0.016, Time: 113.8\n",
      "\n",
      "---------- Trial 2 ----------\n",
      "ADMM - RMSE: 0.031, Time: 2.2\n",
      "Kalman - RMSE: 0.030, Time: 5.8\n",
      "Particle - RMSE: 0.030, Time: 113.8\n",
      "\n",
      "---------- Trial 3 ----------\n",
      "ADMM - RMSE: 0.028, Time: 2.3\n",
      "Kalman - RMSE: 0.030, Time: 6.1\n",
      "Particle - RMSE: 0.045, Time: 113.2\n",
      "\n",
      "---------- Trial 4 ----------\n",
      "ADMM - RMSE: 0.020, Time: 2.1\n",
      "Kalman - RMSE: 0.021, Time: 5.7\n",
      "Particle - RMSE: 0.025, Time: 113.3\n",
      "\n",
      "---------- Trial 5 ----------\n",
      "ADMM - RMSE: 0.007, Time: 1.9\n",
      "Kalman - RMSE: 0.027, Time: 5.7\n",
      "Particle - RMSE: 0.014, Time: 113.0\n",
      "\n",
      "---------- Trial 6 ----------\n",
      "ADMM - RMSE: 0.026, Time: 2.0\n",
      "Kalman - RMSE: 0.043, Time: 5.8\n",
      "Particle - RMSE: 0.028, Time: 113.5\n",
      "\n",
      "---------- Trial 7 ----------\n",
      "ADMM - RMSE: 0.017, Time: 2.3\n",
      "Kalman - RMSE: 0.020, Time: 6.1\n",
      "Particle - RMSE: 0.040, Time: 115.0\n",
      "\n",
      "---------- Trial 8 ----------\n",
      "ADMM - RMSE: 0.032, Time: 2.1\n",
      "Kalman - RMSE: 0.034, Time: 5.8\n",
      "Particle - RMSE: 0.050, Time: 113.8\n",
      "\n",
      "---------- Trial 9 ----------\n",
      "ADMM - RMSE: 0.022, Time: 2.0\n",
      "Kalman - RMSE: 0.025, Time: 5.8\n",
      "Particle - RMSE: 0.016, Time: 113.5\n",
      "\n",
      "---------- Trial 10 ----------\n",
      "ADMM - RMSE: 0.026, Time: 2.1\n",
      "Kalman - RMSE: 0.039, Time: 5.9\n",
      "Particle - RMSE: 0.025, Time: 114.0\n",
      "\n",
      "---------- Trial 11 ----------\n",
      "ADMM - RMSE: 0.014, Time: 2.3\n",
      "Kalman - RMSE: 0.018, Time: 6.3\n",
      "Particle - RMSE: 0.028, Time: 115.5\n",
      "\n",
      "---------- Trial 12 ----------\n",
      "ADMM - RMSE: 0.034, Time: 2.3\n",
      "Kalman - RMSE: 0.028, Time: 6.3\n",
      "Particle - RMSE: 0.086, Time: 112.7\n",
      "\n",
      "---------- Trial 13 ----------\n",
      "ADMM - RMSE: 0.040, Time: 2.1\n",
      "Kalman - RMSE: 0.043, Time: 5.8\n",
      "Particle - RMSE: 0.054, Time: 111.4\n",
      "\n",
      "---------- Trial 14 ----------\n",
      "ADMM - RMSE: 0.031, Time: 2.1\n",
      "Kalman - RMSE: 0.044, Time: 5.8\n",
      "Particle - RMSE: 0.036, Time: 113.6\n",
      "\n",
      "---------- Trial 15 ----------\n",
      "ADMM - RMSE: 0.008, Time: 2.0\n",
      "Kalman - RMSE: 0.021, Time: 5.7\n",
      "Particle - RMSE: 0.005, Time: 114.3\n",
      "\n",
      "---------- Trial 16 ----------\n",
      "ADMM - RMSE: 0.041, Time: 2.1\n",
      "Kalman - RMSE: 0.029, Time: 5.7\n",
      "Particle - RMSE: 0.038, Time: 114.2\n",
      "\n",
      "---------- Trial 17 ----------\n",
      "ADMM - RMSE: 0.002, Time: 1.9\n",
      "Kalman - RMSE: 0.027, Time: 5.5\n",
      "Particle - RMSE: 0.008, Time: 114.1\n",
      "\n",
      "---------- Trial 18 ----------\n",
      "ADMM - RMSE: 0.012, Time: 2.0\n",
      "Kalman - RMSE: 0.056, Time: 5.8\n",
      "Particle - RMSE: 0.014, Time: 115.5\n",
      "\n",
      "---------- Trial 19 ----------\n",
      "ADMM - RMSE: 0.027, Time: 2.3\n",
      "Kalman - RMSE: 0.026, Time: 6.2\n",
      "Particle - RMSE: 0.030, Time: 115.1\n",
      "\n",
      "---------- Trial 20 ----------\n",
      "ADMM - RMSE: 0.011, Time: 2.0\n",
      "Kalman - RMSE: 0.035, Time: 5.8\n",
      "Particle - RMSE: 0.009, Time: 114.3\n"
     ]
    }
   ],
   "source": [
    "results = {'admm':{'rmse':[],'time':[]},\n",
    "           'kalman':{'rmse':[],'time':[]},\n",
    "           'particle':{'rmse':[],'time':[]}}\n",
    "\n",
    "for trial in range(num_trials):\n",
    "    \n",
    "    # generate learning states\n",
    "    X = gen_learning_state(N,sparse_variations=True)\n",
    "    \n",
    "    # create observations\n",
    "    Q = gen_reaction_time(X)\n",
    "    M = gen_trial_outcome(X)\n",
    "    R = gen_spiking(X)\n",
    "    \n",
    "    # make predictions and store results\n",
    "    start = time.time()\n",
    "    x_admm = ssml(observations=(M,Q,R), rho=rho, params=params, max_iters=max_iters, verbosity=verbosity,sparse=True)\n",
    "    results['admm']['time'].append(time.time()-start)\n",
    "    results['admm']['rmse'].append(np.linalg.norm(X-x_admm)/N)\n",
    "    \n",
    "    start = time.time()\n",
    "    x_kalman = kalman_smooth(obs=(M,Q,R),eps=eps,params=kalman_params)\n",
    "    results['kalman']['time'].append(time.time()-start)\n",
    "    results['kalman']['rmse'].append(np.linalg.norm(X-x_kalman)/N)\n",
    "    \n",
    "    start = time.time()\n",
    "    x_particle = particle_smooth(obs=(M,Q,R),params=particle_params,num_p=num_p,sparse=True,forward_only=True)\n",
    "    results['particle']['time'].append(time.time()-start)\n",
    "    results['particle']['rmse'].append(np.linalg.norm(X-x_particle)/N)\n",
    "\n",
    "    print('\\n---------- Trial %i ----------'%(trial+1))\n",
    "    print('ADMM - RMSE: %0.3f, Time: %0.1f'%(results['admm']['rmse'][trial],results['admm']['time'][trial]))\n",
    "    print('Kalman - RMSE: %0.3f, Time: %0.1f'%(results['kalman']['rmse'][trial],results['kalman']['time'][trial]))\n",
    "    print('Particle - RMSE: %0.3f, Time: %0.1f'%(results['particle']['rmse'][trial],results['particle']['time'][trial]))"
   ]
  },
  {
   "cell_type": "code",
   "execution_count": 23,
   "metadata": {},
   "outputs": [
    {
     "name": "stdout",
     "output_type": "stream",
     "text": [
      "ADMM - RMSE: 0.022, Time: 2.1\n",
      "Kalman - RMSE: 0.032, Time: 5.9\n",
      "Particle - RMSE: 0.030, Time: 113.9\n"
     ]
    }
   ],
   "source": [
    "print('ADMM - RMSE: %0.3f, Time: %0.1f'%(np.mean(results['admm']['rmse']),np.mean(results['admm']['time'])))\n",
    "print('Kalman - RMSE: %0.3f, Time: %0.1f'%(np.mean(results['kalman']['rmse']),np.mean(results['kalman']['time'])))\n",
    "print('Particle - RMSE: %0.3f, Time: %0.1f'%(np.mean(results['particle']['rmse']),np.mean(results['particle']['time'])))"
   ]
  }
 ],
 "metadata": {
  "anaconda-cloud": {},
  "kernelspec": {
   "display_name": "Python [default]",
   "language": "python",
   "name": "python3"
  },
  "language_info": {
   "codemirror_mode": {
    "name": "ipython",
    "version": 3
   },
   "file_extension": ".py",
   "mimetype": "text/x-python",
   "name": "python",
   "nbconvert_exporter": "python",
   "pygments_lexer": "ipython3",
   "version": "3.5.2"
  },
  "latex_envs": {
   "bibliofile": "biblio.bib",
   "cite_by": "apalike",
   "current_citInitial": 1,
   "eqLabelWithNumbers": true,
   "eqNumInitial": 0
  },
  "nbpresent": {
   "slides": {
    "09135341-7e06-4359-982b-7a5904250ea2": {
     "id": "09135341-7e06-4359-982b-7a5904250ea2",
     "prev": "8fb321bc-dcca-4662-a8ea-b53befce6cc1",
     "regions": {
      "3f9fe8fb-e130-4ec5-aaa9-d231f3b082f6": {
       "attrs": {
        "height": 0.8,
        "width": 0.8,
        "x": 0.1,
        "y": 0.1
       },
       "content": {
        "cell": "1005470b-51fc-4128-ab38-735927540981",
        "part": "whole"
       },
       "id": "3f9fe8fb-e130-4ec5-aaa9-d231f3b082f6"
      }
     }
    },
    "0b80aba2-a8dd-449b-bbfb-0c34f5007491": {
     "id": "0b80aba2-a8dd-449b-bbfb-0c34f5007491",
     "prev": "bc02d328-6c75-4668-93cf-ba5b0da687ce",
     "regions": {
      "29f7fe64-8015-4489-92e6-7cd959b87b13": {
       "attrs": {
        "height": 0.8,
        "width": 0.8,
        "x": 0.1,
        "y": 0.1
       },
       "content": {
        "cell": "88f55578-e238-4057-9695-fd0218687544",
        "part": "whole"
       },
       "id": "29f7fe64-8015-4489-92e6-7cd959b87b13"
      }
     }
    },
    "0c6ef81e-2d80-4f9b-b5cd-527cb706cbc9": {
     "id": "0c6ef81e-2d80-4f9b-b5cd-527cb706cbc9",
     "prev": "408cebc7-bc06-4726-8335-61021b20b86a",
     "regions": {
      "153cc350-636a-4792-a6b0-e3692e2dff3b": {
       "attrs": {
        "height": 0.8,
        "width": 0.8,
        "x": 0.1,
        "y": 0.1
       },
       "content": {
        "cell": "ac4f78a6-b08d-4b50-9905-f23f1b16ec16",
        "part": "whole"
       },
       "id": "153cc350-636a-4792-a6b0-e3692e2dff3b"
      }
     }
    },
    "0f41cd72-2b43-46b2-b29a-928f49b629ff": {
     "id": "0f41cd72-2b43-46b2-b29a-928f49b629ff",
     "prev": "d87db9dd-e9c4-4d1e-9719-9baba2791c04",
     "regions": {
      "324ae97d-190f-42a6-8a9f-557e7ad66075": {
       "attrs": {
        "height": 0.8,
        "width": 0.8,
        "x": 0.1,
        "y": 0.1
       },
       "content": {
        "cell": "3592b341-12b5-4749-ba11-99b4dadff0c5",
        "part": "whole"
       },
       "id": "324ae97d-190f-42a6-8a9f-557e7ad66075"
      }
     }
    },
    "17f199ad-3459-4374-87c6-c8f773c6b7ea": {
     "id": "17f199ad-3459-4374-87c6-c8f773c6b7ea",
     "prev": "0b80aba2-a8dd-449b-bbfb-0c34f5007491",
     "regions": {
      "343c2463-156e-4605-9b44-9d0ab7bb4644": {
       "attrs": {
        "height": 0.8,
        "width": 0.8,
        "x": 0.1,
        "y": 0.1
       },
       "content": {
        "cell": "27d44aa5-e67f-404a-b743-8cb47332eb78",
        "part": "whole"
       },
       "id": "343c2463-156e-4605-9b44-9d0ab7bb4644"
      }
     }
    },
    "1a306d3c-efd3-4519-be27-2304a1c6068e": {
     "id": "1a306d3c-efd3-4519-be27-2304a1c6068e",
     "prev": "43bad8c6-3215-4b32-808d-baf3f2c55978",
     "regions": {
      "a5293683-d327-408c-a0f3-9ca3feb32a16": {
       "attrs": {
        "height": 0.8,
        "width": 0.8,
        "x": 0.1,
        "y": 0.1
       },
       "content": {
        "cell": "4287f279-af74-46a2-84cb-af6417bef8fe",
        "part": "whole"
       },
       "id": "a5293683-d327-408c-a0f3-9ca3feb32a16"
      }
     }
    },
    "24c55341-a4d8-47ba-9717-2c52ef4c8e7e": {
     "id": "24c55341-a4d8-47ba-9717-2c52ef4c8e7e",
     "prev": "978c9204-eb36-478e-95d5-8fc6dba5c172",
     "regions": {
      "5150b228-a15d-41a2-b54e-a7be17f5d6eb": {
       "attrs": {
        "height": 0.8,
        "width": 0.8,
        "x": 0.1,
        "y": 0.1
       },
       "content": {
        "cell": "3b60be12-93ae-4359-bdc0-7468626264e7",
        "part": "whole"
       },
       "id": "5150b228-a15d-41a2-b54e-a7be17f5d6eb"
      }
     }
    },
    "408cebc7-bc06-4726-8335-61021b20b86a": {
     "id": "408cebc7-bc06-4726-8335-61021b20b86a",
     "prev": "cfa079dc-7a80-4b4f-973d-c8d76280b944",
     "regions": {
      "eca1d1ed-ad27-485c-a8fe-670c9f044196": {
       "attrs": {
        "height": 0.8,
        "width": 0.8,
        "x": 0.1,
        "y": 0.1
       },
       "content": {
        "cell": "f3e693ae-27b1-4af6-bf1e-e7d10588616a",
        "part": "whole"
       },
       "id": "eca1d1ed-ad27-485c-a8fe-670c9f044196"
      }
     }
    },
    "43bad8c6-3215-4b32-808d-baf3f2c55978": {
     "id": "43bad8c6-3215-4b32-808d-baf3f2c55978",
     "prev": "09135341-7e06-4359-982b-7a5904250ea2",
     "regions": {
      "83a60e36-c428-44dd-87af-878fbf1712a2": {
       "attrs": {
        "height": 0.8,
        "width": 0.8,
        "x": 0.1,
        "y": 0.1
       },
       "content": {
        "cell": "da04168b-2d9e-463d-ab8b-83896c169501",
        "part": "whole"
       },
       "id": "83a60e36-c428-44dd-87af-878fbf1712a2"
      }
     }
    },
    "4685db3c-0c2d-4c1a-b058-5b9de824583c": {
     "id": "4685db3c-0c2d-4c1a-b058-5b9de824583c",
     "prev": null,
     "regions": {
      "d3f10eab-0c30-42ed-bd35-de7ac16bb435": {
       "attrs": {
        "height": 0.8,
        "width": 0.8,
        "x": 0.1,
        "y": 0.1
       },
       "content": {
        "cell": "7053d6ff-c76d-4acf-b802-931d1f0def9a",
        "part": "whole"
       },
       "id": "d3f10eab-0c30-42ed-bd35-de7ac16bb435"
      }
     }
    },
    "469f5a0a-af98-42b7-81de-cd51f2f56c06": {
     "id": "469f5a0a-af98-42b7-81de-cd51f2f56c06",
     "prev": "0c6ef81e-2d80-4f9b-b5cd-527cb706cbc9",
     "regions": {
      "3b11cd2a-96d5-4b78-af5b-d931e801d07b": {
       "attrs": {
        "height": 0.8,
        "width": 0.8,
        "x": 0.1,
        "y": 0.1
       },
       "content": {
        "cell": "25ca2ade-b876-4835-aebe-60b685d16f69",
        "part": "whole"
       },
       "id": "3b11cd2a-96d5-4b78-af5b-d931e801d07b"
      }
     }
    },
    "4b3cf5b9-8a5c-4d66-99b3-c3131d7482c8": {
     "id": "4b3cf5b9-8a5c-4d66-99b3-c3131d7482c8",
     "prev": "655336bd-b6ee-4e80-9fe0-5c13ed9b6e30",
     "regions": {
      "cbb0a43d-8013-4f91-bacd-e127ac47d30d": {
       "attrs": {
        "height": 0.8,
        "width": 0.8,
        "x": 0.1,
        "y": 0.1
       },
       "content": {
        "cell": "3ab391eb-c496-4d63-aa2f-26f90721cfdf",
        "part": "whole"
       },
       "id": "cbb0a43d-8013-4f91-bacd-e127ac47d30d"
      }
     }
    },
    "59da8477-48bd-4822-9a09-1520b2d33299": {
     "id": "59da8477-48bd-4822-9a09-1520b2d33299",
     "prev": "0f41cd72-2b43-46b2-b29a-928f49b629ff",
     "regions": {
      "f4537cbd-2f01-4332-bf9e-b6d4568a44d1": {
       "attrs": {
        "height": 0.8,
        "width": 0.8,
        "x": 0.1,
        "y": 0.1
       },
       "content": {
        "cell": "7ab13f1d-3635-4b84-b752-6ac2fd0cc49d",
        "part": "whole"
       },
       "id": "f4537cbd-2f01-4332-bf9e-b6d4568a44d1"
      }
     }
    },
    "64784ae7-fce0-4e99-96c0-337f36d13c98": {
     "id": "64784ae7-fce0-4e99-96c0-337f36d13c98",
     "prev": "4685db3c-0c2d-4c1a-b058-5b9de824583c",
     "regions": {
      "264d38cd-8ffe-4048-beb9-eeeca4d8c35d": {
       "attrs": {
        "height": 0.8,
        "width": 0.8,
        "x": 0.1,
        "y": 0.1
       },
       "content": {
        "cell": "da6cce84-9316-4041-b6f1-f9a3c7c0006b",
        "part": "whole"
       },
       "id": "264d38cd-8ffe-4048-beb9-eeeca4d8c35d"
      }
     }
    },
    "655336bd-b6ee-4e80-9fe0-5c13ed9b6e30": {
     "id": "655336bd-b6ee-4e80-9fe0-5c13ed9b6e30",
     "prev": "1a306d3c-efd3-4519-be27-2304a1c6068e",
     "regions": {
      "a41d59d4-e749-470a-90b6-d12b76cec820": {
       "attrs": {
        "height": 0.8,
        "width": 0.8,
        "x": 0.1,
        "y": 0.1
       },
       "content": {
        "cell": "9c766118-a5db-4982-9104-ad0c2aa05357",
        "part": "whole"
       },
       "id": "a41d59d4-e749-470a-90b6-d12b76cec820"
      }
     }
    },
    "65eb29a1-f1dc-43b1-bf3c-0acd09d0143c": {
     "id": "65eb29a1-f1dc-43b1-bf3c-0acd09d0143c",
     "prev": "f04d943b-a290-4322-a78d-0166d3b6f2c0",
     "regions": {
      "ff06f918-82e5-40fd-9bcc-180f1d4432e7": {
       "attrs": {
        "height": 0.8,
        "width": 0.8,
        "x": 0.1,
        "y": 0.1
       },
       "content": {
        "cell": "f0d8d869-468d-4cbe-b382-986233e6ee31",
        "part": "whole"
       },
       "id": "ff06f918-82e5-40fd-9bcc-180f1d4432e7"
      }
     }
    },
    "78023e12-a4a6-45cf-86bc-1bbc93293365": {
     "id": "78023e12-a4a6-45cf-86bc-1bbc93293365",
     "prev": "81f8f8bb-fd05-4711-926d-1df36fce1a98",
     "regions": {
      "ffea034b-67d1-4edc-bf79-e775ed5c069a": {
       "attrs": {
        "height": 0.8,
        "width": 0.8,
        "x": 0.1,
        "y": 0.1
       },
       "content": {
        "cell": "fc26f8ed-2da9-4fcf-8fb9-1effa2d6643d",
        "part": "whole"
       },
       "id": "ffea034b-67d1-4edc-bf79-e775ed5c069a"
      }
     }
    },
    "80003293-f9b7-4f49-aa39-935b973569a9": {
     "id": "80003293-f9b7-4f49-aa39-935b973569a9",
     "prev": "64784ae7-fce0-4e99-96c0-337f36d13c98",
     "regions": {
      "84ee3af1-ced9-48bb-9038-2f4537e72e0d": {
       "attrs": {
        "height": 0.8,
        "width": 0.8,
        "x": 0.1,
        "y": 0.1
       },
       "content": {
        "cell": "2213f599-ba98-4030-9678-e635f6fb0b8a",
        "part": "whole"
       },
       "id": "84ee3af1-ced9-48bb-9038-2f4537e72e0d"
      }
     }
    },
    "81f8f8bb-fd05-4711-926d-1df36fce1a98": {
     "id": "81f8f8bb-fd05-4711-926d-1df36fce1a98",
     "prev": "17f199ad-3459-4374-87c6-c8f773c6b7ea",
     "regions": {
      "b010c526-8519-4d88-8fd4-e45ab1681b92": {
       "attrs": {
        "height": 0.8,
        "width": 0.8,
        "x": 0.1,
        "y": 0.1
       },
       "content": {
        "cell": "7e8b7288-8d74-47e0-a92a-ec707c1a3730",
        "part": "whole"
       },
       "id": "b010c526-8519-4d88-8fd4-e45ab1681b92"
      }
     }
    },
    "883bc474-85b6-4608-af65-fe8e7d1124fe": {
     "id": "883bc474-85b6-4608-af65-fe8e7d1124fe",
     "prev": "78023e12-a4a6-45cf-86bc-1bbc93293365",
     "regions": {
      "2a84819d-b3e0-4895-abf3-ec8e7101da3d": {
       "attrs": {
        "height": 0.8,
        "width": 0.8,
        "x": 0.1,
        "y": 0.1
       },
       "content": {
        "cell": "a3c95d5f-d876-4baa-bbeb-71d619fa2700",
        "part": "whole"
       },
       "id": "2a84819d-b3e0-4895-abf3-ec8e7101da3d"
      }
     }
    },
    "8fb321bc-dcca-4662-a8ea-b53befce6cc1": {
     "id": "8fb321bc-dcca-4662-a8ea-b53befce6cc1",
     "prev": "883bc474-85b6-4608-af65-fe8e7d1124fe",
     "regions": {
      "541c6541-76a6-44e1-8ad3-fda00e921a4d": {
       "attrs": {
        "height": 0.8,
        "width": 0.8,
        "x": 0.1,
        "y": 0.1
       },
       "content": {
        "cell": "ed8649a2-5168-424d-9d83-7c5db39a1d63",
        "part": "whole"
       },
       "id": "541c6541-76a6-44e1-8ad3-fda00e921a4d"
      }
     }
    },
    "978c9204-eb36-478e-95d5-8fc6dba5c172": {
     "id": "978c9204-eb36-478e-95d5-8fc6dba5c172",
     "prev": "4b3cf5b9-8a5c-4d66-99b3-c3131d7482c8",
     "regions": {
      "78cd6617-a30f-4449-8f36-1d4e1c8250c3": {
       "attrs": {
        "height": 0.8,
        "width": 0.8,
        "x": 0.1,
        "y": 0.1
       },
       "content": {
        "cell": "4d0191c1-6e1f-4e25-9144-9bdbc26db661",
        "part": "whole"
       },
       "id": "78cd6617-a30f-4449-8f36-1d4e1c8250c3"
      }
     }
    },
    "b1ccc22c-a061-4f57-a9e2-e7256df6f5a2": {
     "id": "b1ccc22c-a061-4f57-a9e2-e7256df6f5a2",
     "prev": "d5bc5308-cc18-4108-9bcd-193f56613e8c",
     "regions": {
      "3a782630-c372-41b2-beb6-4bed594f69a1": {
       "attrs": {
        "height": 0.8,
        "width": 0.8,
        "x": 0.1,
        "y": 0.1
       },
       "content": {
        "cell": "1401f36f-1eca-4541-9725-ad3501cc8091",
        "part": "whole"
       },
       "id": "3a782630-c372-41b2-beb6-4bed594f69a1"
      }
     }
    },
    "bc02d328-6c75-4668-93cf-ba5b0da687ce": {
     "id": "bc02d328-6c75-4668-93cf-ba5b0da687ce",
     "prev": "59da8477-48bd-4822-9a09-1520b2d33299",
     "regions": {
      "4b48bb0b-aee8-4b15-80cb-24a328304b99": {
       "attrs": {
        "height": 0.8,
        "width": 0.8,
        "x": 0.1,
        "y": 0.1
       },
       "content": {
        "cell": "52f7020f-bc64-4c19-966b-3791cb20ee19",
        "part": "whole"
       },
       "id": "4b48bb0b-aee8-4b15-80cb-24a328304b99"
      }
     }
    },
    "c330c9a9-6acc-4460-89b5-30c5aac1e8a8": {
     "id": "c330c9a9-6acc-4460-89b5-30c5aac1e8a8",
     "prev": "65eb29a1-f1dc-43b1-bf3c-0acd09d0143c",
     "regions": {
      "17eaf834-05ec-43da-9a74-693c16f572b9": {
       "attrs": {
        "height": 0.8,
        "width": 0.8,
        "x": 0.1,
        "y": 0.1
       },
       "content": {
        "cell": "c2b97d12-07a0-4b7c-85a2-0b1e66fa2966",
        "part": "whole"
       },
       "id": "17eaf834-05ec-43da-9a74-693c16f572b9"
      }
     }
    },
    "cfa079dc-7a80-4b4f-973d-c8d76280b944": {
     "id": "cfa079dc-7a80-4b4f-973d-c8d76280b944",
     "prev": "24c55341-a4d8-47ba-9717-2c52ef4c8e7e",
     "regions": {
      "58571356-0911-4816-9ff1-174451b754a3": {
       "attrs": {
        "height": 0.8,
        "width": 0.8,
        "x": 0.1,
        "y": 0.1
       },
       "content": {
        "cell": "546d107a-3eac-4714-9db3-c8703d18bf78",
        "part": "whole"
       },
       "id": "58571356-0911-4816-9ff1-174451b754a3"
      }
     }
    },
    "d5bc5308-cc18-4108-9bcd-193f56613e8c": {
     "id": "d5bc5308-cc18-4108-9bcd-193f56613e8c",
     "prev": "80003293-f9b7-4f49-aa39-935b973569a9",
     "regions": {
      "c20fabdd-98e8-44d9-9d64-71ee24dc12d2": {
       "attrs": {
        "height": 0.8,
        "width": 0.8,
        "x": 0.1,
        "y": 0.1
       },
       "content": {
        "cell": "f57635e5-54fa-41ad-9dd8-004ff97c4e52",
        "part": "whole"
       },
       "id": "c20fabdd-98e8-44d9-9d64-71ee24dc12d2"
      }
     }
    },
    "d87db9dd-e9c4-4d1e-9719-9baba2791c04": {
     "id": "d87db9dd-e9c4-4d1e-9719-9baba2791c04",
     "prev": "b1ccc22c-a061-4f57-a9e2-e7256df6f5a2",
     "regions": {
      "d8946b0f-481c-4689-84d0-3119b05d9f39": {
       "attrs": {
        "height": 0.8,
        "width": 0.8,
        "x": 0.1,
        "y": 0.1
       },
       "content": {
        "cell": "18d931c5-3f9d-4ee1-9bdb-178e3e372013",
        "part": "whole"
       },
       "id": "d8946b0f-481c-4689-84d0-3119b05d9f39"
      }
     }
    },
    "f04d943b-a290-4322-a78d-0166d3b6f2c0": {
     "id": "f04d943b-a290-4322-a78d-0166d3b6f2c0",
     "prev": "469f5a0a-af98-42b7-81de-cd51f2f56c06",
     "regions": {
      "64e57cee-71b8-4c1a-9320-f3c0da0aa03e": {
       "attrs": {
        "height": 0.8,
        "width": 0.8,
        "x": 0.1,
        "y": 0.1
       },
       "content": {
        "cell": "fcf9752a-835c-4ee1-ab57-1cd4eae02210",
        "part": "whole"
       },
       "id": "64e57cee-71b8-4c1a-9320-f3c0da0aa03e"
      }
     }
    }
   },
   "themes": {}
  }
 },
 "nbformat": 4,
 "nbformat_minor": 1
}
